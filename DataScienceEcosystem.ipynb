{
 "cells": [
  {
   "cell_type": "markdown",
   "id": "7e3d0e00",
   "metadata": {},
   "source": [
    "# Data Science Tools and Ecosystem"
   ]
  },
  {
   "cell_type": "markdown",
   "id": "76808465",
   "metadata": {},
   "source": [
    "In this notebook, Data Science Tools and Ecosystem are summarized."
   ]
  },
  {
   "cell_type": "markdown",
   "id": "1f908162",
   "metadata": {},
   "source": [
    "**Objectives:**\n",
    " - Languages that Data Scientists use\n",
    " - Commonly used libraries used by Data Scientists\n",
    " - Data Science Tools"
   ]
  },
  {
   "cell_type": "markdown",
   "id": "46e09c25",
   "metadata": {},
   "source": [
    "Some of the popular languages that Data Scientists use are:\n",
    " - Python\n",
    " - R\n",
    " - SQL\n",
    "    "
   ]
  },
  {
   "cell_type": "markdown",
   "id": "c4149fd9",
   "metadata": {},
   "source": [
    "Some of the commonly used libraries used by Data Scientists include:\n",
    "1. Pandas\n",
    "2. NumPy\n",
    "2. Matplotlib\n",
    "    "
   ]
  },
  {
   "cell_type": "markdown",
   "id": "68ef611f",
   "metadata": {},
   "source": [
    "|Data Science Tools|\n",
    "|------|\n",
    "|Anaconda|\n",
    "|RStudio|\n",
    "|Watson|\n"
   ]
  },
  {
   "cell_type": "markdown",
   "id": "7c7b9a54",
   "metadata": {},
   "source": [
    "### Below are a few examples of evaluating arithmetic expressions in Python\n"
   ]
  },
  {
   "cell_type": "code",
   "execution_count": 1,
   "id": "4819b191",
   "metadata": {},
   "outputs": [
    {
     "data": {
      "text/plain": [
       "17"
      ]
     },
     "execution_count": 1,
     "metadata": {},
     "output_type": "execute_result"
    }
   ],
   "source": [
    "# This a simple arithmetic expression to mutiply then add integers\n",
    "    \n",
    "(3*4)+5"
   ]
  },
  {
   "cell_type": "code",
   "execution_count": 2,
   "id": "ec1bfea1",
   "metadata": {},
   "outputs": [
    {
     "data": {
      "text/plain": [
       "3.3333333333333335"
      ]
     },
     "execution_count": 2,
     "metadata": {},
     "output_type": "execute_result"
    }
   ],
   "source": [
    "# This will convert 200 minutes to hours by diving by 60\n",
    "\n",
    "200/60\n"
   ]
  },
  {
   "cell_type": "markdown",
   "id": "3da309f5",
   "metadata": {},
   "source": [
    "## Author\n",
    "Anton Gribanov"
   ]
  },
  {
   "cell_type": "code",
   "execution_count": null,
   "id": "85bdd7d7",
   "metadata": {},
   "outputs": [],
   "source": []
  }
 ],
 "metadata": {
  "kernelspec": {
   "display_name": "Python 3 (ipykernel)",
   "language": "python",
   "name": "python3"
  },
  "language_info": {
   "codemirror_mode": {
    "name": "ipython",
    "version": 3
   },
   "file_extension": ".py",
   "mimetype": "text/x-python",
   "name": "python",
   "nbconvert_exporter": "python",
   "pygments_lexer": "ipython3",
   "version": "3.10.6"
  }
 },
 "nbformat": 4,
 "nbformat_minor": 5
}
